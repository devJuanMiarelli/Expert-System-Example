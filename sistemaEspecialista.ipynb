{
  "nbformat": 4,
  "nbformat_minor": 0,
  "metadata": {
    "colab": {
      "provenance": [],
      "include_colab_link": true
    },
    "kernelspec": {
      "name": "python3",
      "display_name": "Python 3"
    },
    "language_info": {
      "name": "python"
    }
  },
  "cells": [
    {
      "cell_type": "markdown",
      "metadata": {
        "id": "view-in-github",
        "colab_type": "text"
      },
      "source": [
        "<a href=\"https://colab.research.google.com/github/devJuanMiarelli/Expert-System-Example/blob/main/sistemaEspecialista.ipynb\" target=\"_parent\"><img src=\"https://colab.research.google.com/assets/colab-badge.svg\" alt=\"Open In Colab\"/></a>"
      ]
    },
    {
      "cell_type": "code",
      "execution_count": 5,
      "metadata": {
        "id": "CjH8A5DYeI9I"
      },
      "outputs": [],
      "source": [
        "# sistema simboliza [ cookies ] de navegadores\n",
        "\n",
        "produtos = [\n",
        "    {\"Produto\": \"Televisão\", \"Gênero\": \"Eletrônico\", \"Faixa Etária\": \"Adultos e Crianças\"},\n",
        "    {\"Produto\": \"Bicicleta\", \"Gênero\": \"Esporte\", \"Faixa Etária\": \"Jovens\"},\n",
        "    {\"Produto\": \"Livro de Ficção\", \"Gênero\": \"Literatura\", \"Faixa Etária\": \"Adultos\"},\n",
        "    {\"Produto\": \"Brinquedo Educativo\", \"Gênero\": \"Brinquedo\", \"Faixa Etária\": \"Crianças\"},\n",
        "    {\"Produto\": \"Smartphone\", \"Gênero\": \"Eletrônico\", \"Faixa Etária\": \"Adultos\"},\n",
        "    {\"Produto\": \"Tablet\", \"Gênero\": \"Eletrônico\", \"Faixa Etária\": \"Adultos e Crianças\"},\n",
        "    {\"Produto\": \"Jogo de Tabuleiro\", \"Gênero\": \"Brinquedo\", \"Faixa Etária\": \"Jovens\"},\n",
        "    {\"Produto\": \"Câmera Fotográfica\", \"Gênero\": \"Eletrônico\", \"Faixa Etária\": \"Adultos\"},\n",
        "    {\"Produto\": \"Patins\", \"Gênero\": \"Esporte\", \"Faixa Etária\": \"Crianças\"},\n",
        "    {\"Produto\": \"Livro Infantil\", \"Gênero\": \"Literatura\", \"Faixa Etária\": \"Crianças\"},\n",
        "]\n",
        "\n",
        "regras = [\n",
        "    {\"Condição\": {\"Gênero\": \"Eletrônico\", \"Faixa Etária\": \"Adultos e Crianças\"}, \"Recomendação\": [\"Televisão\", \"Tablet\"]},\n",
        "    {\"Condição\": {\"Gênero\": \"Esporte\", \"Faixa Etária\": \"Jovens\"}, \"Recomendação\": [\"Bicicleta\"]},\n",
        "    {\"Condição\": {\"Gênero\": \"Literatura\", \"Faixa Etária\": \"Adultos\"}, \"Recomendação\": [\"Livro de Ficção\"]},\n",
        "    {\"Condição\": {\"Gênero\": \"Brinquedo\", \"Faixa Etária\": \"Crianças\"}, \"Recomendação\": [\"Brinquedo Educativo\", \"Patins\"]},\n",
        "    {\"Condição\": {\"Gênero\": \"Eletrônico\", \"Faixa Etária\": \"Adultos\"}, \"Recomendação\": [\"Smartphone\", \"Câmera Fotográfica\"]},\n",
        "    {\"Condição\": {\"Gênero\": \"Brinquedo\", \"Faixa Etária\": \"Jovens\"}, \"Recomendação\": [\"Jogo de Tabuleiro\"]},\n",
        "    {\"Condição\": {\"Gênero\": \"Esporte\", \"Faixa Etária\": \"Crianças\"}, \"Recomendação\": [\"Patins\"]},\n",
        "    {\"Condição\": {\"Gênero\": \"Literatura\", \"Faixa Etária\": \"Crianças\"}, \"Recomendação\": [\"Livro Infantil\"]},\n",
        "    {\"Condição\": {\"Gênero\": \"Literatura\", \"Faixa Etária\": \"Adultos\"}, \"Recomendação\": [\"Livro de Ficção\"]},\n",
        "]\n"
      ]
    },
    {
      "cell_type": "code",
      "source": [
        "def recomendar(preferencias):\n",
        "    recomendacoes = []\n",
        "    for regra in regras:\n",
        "        condicao = regra[\"Condição\"]\n",
        "        if (preferencias[\"Gênero\"] == condicao[\"Gênero\"] and\n",
        "                preferencias[\"Faixa Etária\"] == condicao[\"Faixa Etária\"]):\n",
        "            recomendacoes.extend(regra[\"Recomendação\"])\n",
        "    return recomendacoes\n"
      ],
      "metadata": {
        "id": "paQFjmBAen9M"
      },
      "execution_count": 6,
      "outputs": []
    },
    {
      "cell_type": "code",
      "source": [
        "def main():\n",
        "    # Coletar preferências do usuário\n",
        "    genero = input(\"Você gostaria de aproveitar qual tipo de produto? \")\n",
        "    faixa_etaria = input(\"Nos informe sua faixa etária. \")\n",
        "\n",
        "    preferencias = {\n",
        "        \"Gênero\": genero,\n",
        "        \"Faixa Etária\": faixa_etaria\n",
        "    }\n",
        "\n",
        "    # Obter recomendações\n",
        "    produtos_recomendados = recomendar(preferencias)\n",
        "\n",
        "    # Mostrar recomendações\n",
        "    if produtos_recomendados:\n",
        "        print(\"Os produtos que combinam com você são:\")\n",
        "        for produto in produtos_recomendados:\n",
        "            print(f\"- {produto}\")\n",
        "    else:\n",
        "        print(\"Nenhuma recomendação disponível.\")\n",
        "\n",
        "if __name__ == \"__main__\":\n",
        "    main()\n"
      ],
      "metadata": {
        "colab": {
          "base_uri": "https://localhost:8080/"
        },
        "id": "VVGk2FB3er-3",
        "outputId": "94942e15-fd4a-4445-e6e1-424e3c459cfa"
      },
      "execution_count": 7,
      "outputs": [
        {
          "output_type": "stream",
          "name": "stdout",
          "text": [
            "Qual gênero de produto você prefere? Eletrônico\n",
            "Qual é a sua faixa etária? Adultos e Crianças\n",
            "Produtos Recomendados:\n",
            "- Televisão\n",
            "- Tablet\n"
          ]
        }
      ]
    }
  ]
}